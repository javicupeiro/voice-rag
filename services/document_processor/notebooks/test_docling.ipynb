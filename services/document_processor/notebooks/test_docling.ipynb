{
 "cells": [
  {
   "cell_type": "markdown",
   "id": "8398edaf",
   "metadata": {},
   "source": [
    "# 1. Imports y definición de clases"
   ]
  },
  {
   "cell_type": "code",
   "execution_count": 1,
   "id": "2b915f26",
   "metadata": {},
   "outputs": [
    {
     "name": "stderr",
     "output_type": "stream",
     "text": [
      "/Users/ignaciocarrenoromero/ProyectosPersonales/voice-rag/.ragvoice/lib/python3.10/site-packages/tqdm/auto.py:21: TqdmWarning: IProgress not found. Please update jupyter and ipywidgets. See https://ipywidgets.readthedocs.io/en/stable/user_install.html\n",
      "  from .autonotebook import tqdm as notebook_tqdm\n"
     ]
    }
   ],
   "source": [
    "from pathlib import Path\n",
    "from typing import List\n",
    "from PIL import Image\n",
    "import base64\n",
    "import io\n",
    "import matplotlib.pyplot as plt\n",
    "\n",
    "from docling.document_converter import DocumentConverter, PdfFormatOption\n",
    "from docling.datamodel.base_models import InputFormat\n",
    "from docling.datamodel.pipeline_options import PdfPipelineOptions\n",
    "from docling_core.types.doc import DocItem, TableItem, PictureItem\n",
    "from docling.chunking import HybridChunker\n",
    "from docling_core.transforms.chunker import DocChunk\n",
    "\n",
    "from dataclasses import dataclass\n",
    "from typing import Literal, Dict, Any\n",
    "\n",
    "# Definimos tipo y clase para los chunks\n",
    "ChunkType = Literal[\"text\", \"table\", \"image\"]\n",
    "\n",
    "@dataclass\n",
    "class DocumentChunk:\n",
    "    content: str\n",
    "    type: ChunkType\n",
    "    source_page: int\n",
    "    metadata: Dict[str, Any]"
   ]
  },
  {
   "cell_type": "markdown",
   "id": "8f2fd4e4",
   "metadata": {},
   "source": [
    "# 2. Clase Parser PDF"
   ]
  },
  {
   "cell_type": "code",
   "execution_count": 2,
   "id": "507a948a",
   "metadata": {},
   "outputs": [],
   "source": [
    "class PdfParser:\n",
    "    def __init__(self, chunk_size: int = 256, image_resolution_scale: float = 2.0):\n",
    "        pipeline_options = PdfPipelineOptions(\n",
    "            images_scale=image_resolution_scale,\n",
    "            generate_page_images=True,\n",
    "            generate_picture_images=True\n",
    "        )\n",
    "        self.converter = DocumentConverter(\n",
    "            format_options={InputFormat.PDF: PdfFormatOption(pipeline_options=pipeline_options)}\n",
    "        )\n",
    "        self.chunker = HybridChunker(max_tokens_per_chunk=chunk_size)\n",
    "\n",
    "    def _image_to_base64(self, image: Image) -> str:\n",
    "        buffered = io.BytesIO()\n",
    "        image.save(buffered, format=\"PNG\")\n",
    "        return base64.b64encode(buffered.getvalue()).decode('utf-8')\n",
    "\n",
    "    def _base64_to_image(self, b64: str) -> Image:\n",
    "        return Image.open(io.BytesIO(base64.b64decode(b64)))\n",
    "\n",
    "    def parse(self, file_path: str) -> List[DocumentChunk]:\n",
    "        doc = self.converter.convert(file_path).document\n",
    "        text_chunks = list(self.chunker.chunk(doc))\n",
    "        visual_elements = [item for item, _ in doc.iterate_items() if isinstance(item, (TableItem, PictureItem))]\n",
    "\n",
    "        all_items = text_chunks + visual_elements\n",
    "        result_chunks: List[DocumentChunk] = []\n",
    "\n",
    "        for item in all_items:\n",
    "            try:\n",
    "                if isinstance(item, DocChunk):\n",
    "                    page = item.meta.doc_items[0].prov[0].page_no if item.meta and item.meta.doc_items else 0\n",
    "                    result_chunks.append(DocumentChunk(\n",
    "                        content=item.text,\n",
    "                        type=\"text\",\n",
    "                        source_page=page,\n",
    "                        metadata={}\n",
    "                    ))\n",
    "\n",
    "                elif isinstance(item, TableItem):\n",
    "                    image_b64 = self._image_to_base64(item.get_image(doc))\n",
    "                    caption = item.caption_text(doc)\n",
    "                    page = item.prov[0].page_no if item.prov else 0\n",
    "                    result_chunks.append(DocumentChunk(\n",
    "                        content=image_b64,\n",
    "                        type=\"table\",\n",
    "                        source_page=page,\n",
    "                        metadata={\"caption\": caption}\n",
    "                    ))\n",
    "\n",
    "                elif isinstance(item, PictureItem):\n",
    "                    image_b64 = self._image_to_base64(item.get_image(doc))\n",
    "                    caption = item.caption_text(doc)\n",
    "                    page = item.prov[0].page_no if item.prov else 0\n",
    "                    result_chunks.append(DocumentChunk(\n",
    "                        content=image_b64,\n",
    "                        type=\"image\",\n",
    "                        source_page=page,\n",
    "                        metadata={\"caption\": caption}\n",
    "                    ))\n",
    "            except Exception as e:\n",
    "                print(f\"Error processing item: {e}\")\n",
    "        return result_chunks"
   ]
  },
  {
   "cell_type": "markdown",
   "id": "ec4bce4f",
   "metadata": {},
   "source": [
    "# 3. Ejecutamos el parser con un PDF de prueba"
   ]
  },
  {
   "cell_type": "code",
   "execution_count": null,
   "id": "a7aeff0e",
   "metadata": {},
   "outputs": [
    {
     "ename": "FileNotFoundError",
     "evalue": "[Errno 2] No such file or directory: '.creacion de valor con genAI.pdf'",
     "output_type": "error",
     "traceback": [
      "\u001b[0;31m---------------------------------------------------------------------------\u001b[0m",
      "\u001b[0;31mValidationError\u001b[0m                           Traceback (most recent call last)",
      "File \u001b[0;32m~/ProyectosPersonales/voice-rag/.ragvoice/lib/python3.10/site-packages/docling_core/utils/file.py:70\u001b[0m, in \u001b[0;36mresolve_source_to_stream\u001b[0;34m(source, headers)\u001b[0m\n\u001b[1;32m     69\u001b[0m \u001b[38;5;28;01mtry\u001b[39;00m:\n\u001b[0;32m---> 70\u001b[0m     http_url: AnyHttpUrl \u001b[38;5;241m=\u001b[39m \u001b[43mTypeAdapter\u001b[49m\u001b[43m(\u001b[49m\u001b[43mAnyHttpUrl\u001b[49m\u001b[43m)\u001b[49m\u001b[38;5;241;43m.\u001b[39;49m\u001b[43mvalidate_python\u001b[49m\u001b[43m(\u001b[49m\u001b[43msource\u001b[49m\u001b[43m)\u001b[49m\n\u001b[1;32m     72\u001b[0m     \u001b[38;5;66;03m# make all header keys lower case\u001b[39;00m\n",
      "File \u001b[0;32m~/ProyectosPersonales/voice-rag/.ragvoice/lib/python3.10/site-packages/pydantic/type_adapter.py:421\u001b[0m, in \u001b[0;36mTypeAdapter.validate_python\u001b[0;34m(self, object, strict, from_attributes, context, experimental_allow_partial, by_alias, by_name)\u001b[0m\n\u001b[1;32m    416\u001b[0m     \u001b[38;5;28;01mraise\u001b[39;00m PydanticUserError(\n\u001b[1;32m    417\u001b[0m         \u001b[38;5;124m'\u001b[39m\u001b[38;5;124mAt least one of `by_alias` or `by_name` must be set to True.\u001b[39m\u001b[38;5;124m'\u001b[39m,\n\u001b[1;32m    418\u001b[0m         code\u001b[38;5;241m=\u001b[39m\u001b[38;5;124m'\u001b[39m\u001b[38;5;124mvalidate-by-alias-and-name-false\u001b[39m\u001b[38;5;124m'\u001b[39m,\n\u001b[1;32m    419\u001b[0m     )\n\u001b[0;32m--> 421\u001b[0m \u001b[38;5;28;01mreturn\u001b[39;00m \u001b[38;5;28;43mself\u001b[39;49m\u001b[38;5;241;43m.\u001b[39;49m\u001b[43mvalidator\u001b[49m\u001b[38;5;241;43m.\u001b[39;49m\u001b[43mvalidate_python\u001b[49m\u001b[43m(\u001b[49m\n\u001b[1;32m    422\u001b[0m \u001b[43m    \u001b[49m\u001b[38;5;28;43mobject\u001b[39;49m\u001b[43m,\u001b[49m\n\u001b[1;32m    423\u001b[0m \u001b[43m    \u001b[49m\u001b[43mstrict\u001b[49m\u001b[38;5;241;43m=\u001b[39;49m\u001b[43mstrict\u001b[49m\u001b[43m,\u001b[49m\n\u001b[1;32m    424\u001b[0m \u001b[43m    \u001b[49m\u001b[43mfrom_attributes\u001b[49m\u001b[38;5;241;43m=\u001b[39;49m\u001b[43mfrom_attributes\u001b[49m\u001b[43m,\u001b[49m\n\u001b[1;32m    425\u001b[0m \u001b[43m    \u001b[49m\u001b[43mcontext\u001b[49m\u001b[38;5;241;43m=\u001b[39;49m\u001b[43mcontext\u001b[49m\u001b[43m,\u001b[49m\n\u001b[1;32m    426\u001b[0m \u001b[43m    \u001b[49m\u001b[43mallow_partial\u001b[49m\u001b[38;5;241;43m=\u001b[39;49m\u001b[43mexperimental_allow_partial\u001b[49m\u001b[43m,\u001b[49m\n\u001b[1;32m    427\u001b[0m \u001b[43m    \u001b[49m\u001b[43mby_alias\u001b[49m\u001b[38;5;241;43m=\u001b[39;49m\u001b[43mby_alias\u001b[49m\u001b[43m,\u001b[49m\n\u001b[1;32m    428\u001b[0m \u001b[43m    \u001b[49m\u001b[43mby_name\u001b[49m\u001b[38;5;241;43m=\u001b[39;49m\u001b[43mby_name\u001b[49m\u001b[43m,\u001b[49m\n\u001b[1;32m    429\u001b[0m \u001b[43m\u001b[49m\u001b[43m)\u001b[49m\n",
      "\u001b[0;31mValidationError\u001b[0m: 1 validation error for function-wrap[wrap_val()]\n  Input should be a valid URL, relative URL without a base [type=url_parsing, input_value='.creacion de valor con genAI.pdf', input_type=str]\n    For further information visit https://errors.pydantic.dev/2.11/v/url_parsing",
      "\nDuring handling of the above exception, another exception occurred:\n",
      "\u001b[0;31mFileNotFoundError\u001b[0m                         Traceback (most recent call last)",
      "Cell \u001b[0;32mIn[3], line 3\u001b[0m\n\u001b[1;32m      1\u001b[0m pdf_path \u001b[38;5;241m=\u001b[39m \u001b[38;5;124m\"\u001b[39m\u001b[38;5;124m.creacion de valor con genAI.pdf\u001b[39m\u001b[38;5;124m\"\u001b[39m\n\u001b[1;32m      2\u001b[0m parser \u001b[38;5;241m=\u001b[39m PdfParser(chunk_size\u001b[38;5;241m=\u001b[39m\u001b[38;5;241m256\u001b[39m)\n\u001b[0;32m----> 3\u001b[0m chunks \u001b[38;5;241m=\u001b[39m \u001b[43mparser\u001b[49m\u001b[38;5;241;43m.\u001b[39;49m\u001b[43mparse\u001b[49m\u001b[43m(\u001b[49m\u001b[43mpdf_path\u001b[49m\u001b[43m)\u001b[49m\n\u001b[1;32m      5\u001b[0m \u001b[38;5;28mprint\u001b[39m(\u001b[38;5;124mf\u001b[39m\u001b[38;5;124m\"\u001b[39m\u001b[38;5;124mTotal de chunks encontrados: \u001b[39m\u001b[38;5;132;01m{\u001b[39;00m\u001b[38;5;28mlen\u001b[39m(chunks)\u001b[38;5;132;01m}\u001b[39;00m\u001b[38;5;124m\"\u001b[39m)\n",
      "Cell \u001b[0;32mIn[2], line 22\u001b[0m, in \u001b[0;36mPdfParser.parse\u001b[0;34m(self, file_path)\u001b[0m\n\u001b[1;32m     21\u001b[0m \u001b[38;5;28;01mdef\u001b[39;00m\u001b[38;5;250m \u001b[39m\u001b[38;5;21mparse\u001b[39m(\u001b[38;5;28mself\u001b[39m, file_path: \u001b[38;5;28mstr\u001b[39m) \u001b[38;5;241m-\u001b[39m\u001b[38;5;241m>\u001b[39m List[DocumentChunk]:\n\u001b[0;32m---> 22\u001b[0m     doc \u001b[38;5;241m=\u001b[39m \u001b[38;5;28;43mself\u001b[39;49m\u001b[38;5;241;43m.\u001b[39;49m\u001b[43mconverter\u001b[49m\u001b[38;5;241;43m.\u001b[39;49m\u001b[43mconvert\u001b[49m\u001b[43m(\u001b[49m\u001b[43mfile_path\u001b[49m\u001b[43m)\u001b[49m\u001b[38;5;241m.\u001b[39mdocument\n\u001b[1;32m     23\u001b[0m     text_chunks \u001b[38;5;241m=\u001b[39m \u001b[38;5;28mlist\u001b[39m(\u001b[38;5;28mself\u001b[39m\u001b[38;5;241m.\u001b[39mchunker\u001b[38;5;241m.\u001b[39mchunk(doc))\n\u001b[1;32m     24\u001b[0m     visual_elements \u001b[38;5;241m=\u001b[39m [item \u001b[38;5;28;01mfor\u001b[39;00m item, _ \u001b[38;5;129;01min\u001b[39;00m doc\u001b[38;5;241m.\u001b[39miterate_items() \u001b[38;5;28;01mif\u001b[39;00m \u001b[38;5;28misinstance\u001b[39m(item, (TableItem, PictureItem))]\n",
      "File \u001b[0;32m~/ProyectosPersonales/voice-rag/.ragvoice/lib/python3.10/site-packages/pydantic/_internal/_validate_call.py:39\u001b[0m, in \u001b[0;36mupdate_wrapper_attributes.<locals>.wrapper_function\u001b[0;34m(*args, **kwargs)\u001b[0m\n\u001b[1;32m     37\u001b[0m \u001b[38;5;129m@functools\u001b[39m\u001b[38;5;241m.\u001b[39mwraps(wrapped)\n\u001b[1;32m     38\u001b[0m \u001b[38;5;28;01mdef\u001b[39;00m\u001b[38;5;250m \u001b[39m\u001b[38;5;21mwrapper_function\u001b[39m(\u001b[38;5;241m*\u001b[39margs, \u001b[38;5;241m*\u001b[39m\u001b[38;5;241m*\u001b[39mkwargs):\n\u001b[0;32m---> 39\u001b[0m     \u001b[38;5;28;01mreturn\u001b[39;00m \u001b[43mwrapper\u001b[49m\u001b[43m(\u001b[49m\u001b[38;5;241;43m*\u001b[39;49m\u001b[43margs\u001b[49m\u001b[43m,\u001b[49m\u001b[43m \u001b[49m\u001b[38;5;241;43m*\u001b[39;49m\u001b[38;5;241;43m*\u001b[39;49m\u001b[43mkwargs\u001b[49m\u001b[43m)\u001b[49m\n",
      "File \u001b[0;32m~/ProyectosPersonales/voice-rag/.ragvoice/lib/python3.10/site-packages/pydantic/_internal/_validate_call.py:136\u001b[0m, in \u001b[0;36mValidateCallWrapper.__call__\u001b[0;34m(self, *args, **kwargs)\u001b[0m\n\u001b[1;32m    133\u001b[0m \u001b[38;5;28;01mif\u001b[39;00m \u001b[38;5;129;01mnot\u001b[39;00m \u001b[38;5;28mself\u001b[39m\u001b[38;5;241m.\u001b[39m__pydantic_complete__:\n\u001b[1;32m    134\u001b[0m     \u001b[38;5;28mself\u001b[39m\u001b[38;5;241m.\u001b[39m_create_validators()\n\u001b[0;32m--> 136\u001b[0m res \u001b[38;5;241m=\u001b[39m \u001b[38;5;28;43mself\u001b[39;49m\u001b[38;5;241;43m.\u001b[39;49m\u001b[43m__pydantic_validator__\u001b[49m\u001b[38;5;241;43m.\u001b[39;49m\u001b[43mvalidate_python\u001b[49m\u001b[43m(\u001b[49m\u001b[43mpydantic_core\u001b[49m\u001b[38;5;241;43m.\u001b[39;49m\u001b[43mArgsKwargs\u001b[49m\u001b[43m(\u001b[49m\u001b[43margs\u001b[49m\u001b[43m,\u001b[49m\u001b[43m \u001b[49m\u001b[43mkwargs\u001b[49m\u001b[43m)\u001b[49m\u001b[43m)\u001b[49m\n\u001b[1;32m    137\u001b[0m \u001b[38;5;28;01mif\u001b[39;00m \u001b[38;5;28mself\u001b[39m\u001b[38;5;241m.\u001b[39m__return_pydantic_validator__:\n\u001b[1;32m    138\u001b[0m     \u001b[38;5;28;01mreturn\u001b[39;00m \u001b[38;5;28mself\u001b[39m\u001b[38;5;241m.\u001b[39m__return_pydantic_validator__(res)\n",
      "File \u001b[0;32m~/ProyectosPersonales/voice-rag/.ragvoice/lib/python3.10/site-packages/docling/document_converter.py:238\u001b[0m, in \u001b[0;36mDocumentConverter.convert\u001b[0;34m(self, source, headers, raises_on_error, max_num_pages, max_file_size, page_range)\u001b[0m\n\u001b[1;32m    220\u001b[0m \u001b[38;5;129m@validate_call\u001b[39m(config\u001b[38;5;241m=\u001b[39mConfigDict(strict\u001b[38;5;241m=\u001b[39m\u001b[38;5;28;01mTrue\u001b[39;00m))\n\u001b[1;32m    221\u001b[0m \u001b[38;5;28;01mdef\u001b[39;00m\u001b[38;5;250m \u001b[39m\u001b[38;5;21mconvert\u001b[39m(\n\u001b[1;32m    222\u001b[0m     \u001b[38;5;28mself\u001b[39m,\n\u001b[0;32m   (...)\u001b[0m\n\u001b[1;32m    228\u001b[0m     page_range: PageRange \u001b[38;5;241m=\u001b[39m DEFAULT_PAGE_RANGE,\n\u001b[1;32m    229\u001b[0m ) \u001b[38;5;241m-\u001b[39m\u001b[38;5;241m>\u001b[39m ConversionResult:\n\u001b[1;32m    230\u001b[0m     all_res \u001b[38;5;241m=\u001b[39m \u001b[38;5;28mself\u001b[39m\u001b[38;5;241m.\u001b[39mconvert_all(\n\u001b[1;32m    231\u001b[0m         source\u001b[38;5;241m=\u001b[39m[source],\n\u001b[1;32m    232\u001b[0m         raises_on_error\u001b[38;5;241m=\u001b[39mraises_on_error,\n\u001b[0;32m   (...)\u001b[0m\n\u001b[1;32m    236\u001b[0m         page_range\u001b[38;5;241m=\u001b[39mpage_range,\n\u001b[1;32m    237\u001b[0m     )\n\u001b[0;32m--> 238\u001b[0m     \u001b[38;5;28;01mreturn\u001b[39;00m \u001b[38;5;28;43mnext\u001b[39;49m\u001b[43m(\u001b[49m\u001b[43mall_res\u001b[49m\u001b[43m)\u001b[49m\n",
      "File \u001b[0;32m~/ProyectosPersonales/voice-rag/.ragvoice/lib/python3.10/site-packages/docling/document_converter.py:261\u001b[0m, in \u001b[0;36mDocumentConverter.convert_all\u001b[0;34m(self, source, headers, raises_on_error, max_num_pages, max_file_size, page_range)\u001b[0m\n\u001b[1;32m    258\u001b[0m conv_res_iter \u001b[38;5;241m=\u001b[39m \u001b[38;5;28mself\u001b[39m\u001b[38;5;241m.\u001b[39m_convert(conv_input, raises_on_error\u001b[38;5;241m=\u001b[39mraises_on_error)\n\u001b[1;32m    260\u001b[0m had_result \u001b[38;5;241m=\u001b[39m \u001b[38;5;28;01mFalse\u001b[39;00m\n\u001b[0;32m--> 261\u001b[0m \u001b[38;5;28;01mfor\u001b[39;00m conv_res \u001b[38;5;129;01min\u001b[39;00m conv_res_iter:\n\u001b[1;32m    262\u001b[0m     had_result \u001b[38;5;241m=\u001b[39m \u001b[38;5;28;01mTrue\u001b[39;00m\n\u001b[1;32m    263\u001b[0m     \u001b[38;5;28;01mif\u001b[39;00m raises_on_error \u001b[38;5;129;01mand\u001b[39;00m conv_res\u001b[38;5;241m.\u001b[39mstatus \u001b[38;5;129;01mnot\u001b[39;00m \u001b[38;5;129;01min\u001b[39;00m {\n\u001b[1;32m    264\u001b[0m         ConversionStatus\u001b[38;5;241m.\u001b[39mSUCCESS,\n\u001b[1;32m    265\u001b[0m         ConversionStatus\u001b[38;5;241m.\u001b[39mPARTIAL_SUCCESS,\n\u001b[1;32m    266\u001b[0m     }:\n",
      "File \u001b[0;32m~/ProyectosPersonales/voice-rag/.ragvoice/lib/python3.10/site-packages/docling/document_converter.py:283\u001b[0m, in \u001b[0;36mDocumentConverter._convert\u001b[0;34m(self, conv_input, raises_on_error)\u001b[0m\n\u001b[1;32m    278\u001b[0m \u001b[38;5;28;01mdef\u001b[39;00m\u001b[38;5;250m \u001b[39m\u001b[38;5;21m_convert\u001b[39m(\n\u001b[1;32m    279\u001b[0m     \u001b[38;5;28mself\u001b[39m, conv_input: _DocumentConversionInput, raises_on_error: \u001b[38;5;28mbool\u001b[39m\n\u001b[1;32m    280\u001b[0m ) \u001b[38;5;241m-\u001b[39m\u001b[38;5;241m>\u001b[39m Iterator[ConversionResult]:\n\u001b[1;32m    281\u001b[0m     start_time \u001b[38;5;241m=\u001b[39m time\u001b[38;5;241m.\u001b[39mmonotonic()\n\u001b[0;32m--> 283\u001b[0m     \u001b[38;5;28;01mfor\u001b[39;00m input_batch \u001b[38;5;129;01min\u001b[39;00m chunkify(\n\u001b[1;32m    284\u001b[0m         conv_input\u001b[38;5;241m.\u001b[39mdocs(\u001b[38;5;28mself\u001b[39m\u001b[38;5;241m.\u001b[39mformat_to_options),\n\u001b[1;32m    285\u001b[0m         settings\u001b[38;5;241m.\u001b[39mperf\u001b[38;5;241m.\u001b[39mdoc_batch_size,  \u001b[38;5;66;03m# pass format_options\u001b[39;00m\n\u001b[1;32m    286\u001b[0m     ):\n\u001b[1;32m    287\u001b[0m         _log\u001b[38;5;241m.\u001b[39minfo(\u001b[38;5;124m\"\u001b[39m\u001b[38;5;124mGoing to convert document batch...\u001b[39m\u001b[38;5;124m\"\u001b[39m)\n\u001b[1;32m    288\u001b[0m         process_func \u001b[38;5;241m=\u001b[39m partial(\n\u001b[1;32m    289\u001b[0m             \u001b[38;5;28mself\u001b[39m\u001b[38;5;241m.\u001b[39m_process_document, raises_on_error\u001b[38;5;241m=\u001b[39mraises_on_error\n\u001b[1;32m    290\u001b[0m         )\n",
      "File \u001b[0;32m~/ProyectosPersonales/voice-rag/.ragvoice/lib/python3.10/site-packages/docling/utils/utils.py:15\u001b[0m, in \u001b[0;36mchunkify\u001b[0;34m(iterator, chunk_size)\u001b[0m\n\u001b[1;32m     13\u001b[0m \u001b[38;5;28;01mif\u001b[39;00m \u001b[38;5;28misinstance\u001b[39m(iterator, List):\n\u001b[1;32m     14\u001b[0m     iterator \u001b[38;5;241m=\u001b[39m \u001b[38;5;28miter\u001b[39m(iterator)\n\u001b[0;32m---> 15\u001b[0m \u001b[38;5;28;01mfor\u001b[39;00m first \u001b[38;5;129;01min\u001b[39;00m iterator:  \u001b[38;5;66;03m# Take the first element from the iterator\u001b[39;00m\n\u001b[1;32m     16\u001b[0m     \u001b[38;5;28;01myield\u001b[39;00m [first, \u001b[38;5;241m*\u001b[39m\u001b[38;5;28mlist\u001b[39m(islice(iterator, chunk_size \u001b[38;5;241m-\u001b[39m \u001b[38;5;241m1\u001b[39m))]\n",
      "File \u001b[0;32m~/ProyectosPersonales/voice-rag/.ragvoice/lib/python3.10/site-packages/docling/datamodel/document.py:244\u001b[0m, in \u001b[0;36m_DocumentConversionInput.docs\u001b[0;34m(self, format_options)\u001b[0m\n\u001b[1;32m    239\u001b[0m \u001b[38;5;28;01mdef\u001b[39;00m\u001b[38;5;250m \u001b[39m\u001b[38;5;21mdocs\u001b[39m(\n\u001b[1;32m    240\u001b[0m     \u001b[38;5;28mself\u001b[39m, format_options: Dict[InputFormat, \u001b[38;5;124m\"\u001b[39m\u001b[38;5;124mFormatOption\u001b[39m\u001b[38;5;124m\"\u001b[39m]\n\u001b[1;32m    241\u001b[0m ) \u001b[38;5;241m-\u001b[39m\u001b[38;5;241m>\u001b[39m Iterable[InputDocument]:\n\u001b[1;32m    242\u001b[0m     \u001b[38;5;28;01mfor\u001b[39;00m item \u001b[38;5;129;01min\u001b[39;00m \u001b[38;5;28mself\u001b[39m\u001b[38;5;241m.\u001b[39mpath_or_stream_iterator:\n\u001b[1;32m    243\u001b[0m         obj \u001b[38;5;241m=\u001b[39m (\n\u001b[0;32m--> 244\u001b[0m             \u001b[43mresolve_source_to_stream\u001b[49m\u001b[43m(\u001b[49m\u001b[43mitem\u001b[49m\u001b[43m,\u001b[49m\u001b[43m \u001b[49m\u001b[38;5;28;43mself\u001b[39;49m\u001b[38;5;241;43m.\u001b[39;49m\u001b[43mheaders\u001b[49m\u001b[43m)\u001b[49m\n\u001b[1;32m    245\u001b[0m             \u001b[38;5;28;01mif\u001b[39;00m \u001b[38;5;28misinstance\u001b[39m(item, \u001b[38;5;28mstr\u001b[39m)\n\u001b[1;32m    246\u001b[0m             \u001b[38;5;28;01melse\u001b[39;00m item\n\u001b[1;32m    247\u001b[0m         )\n\u001b[1;32m    248\u001b[0m         \u001b[38;5;28mformat\u001b[39m \u001b[38;5;241m=\u001b[39m \u001b[38;5;28mself\u001b[39m\u001b[38;5;241m.\u001b[39m_guess_format(obj)\n\u001b[1;32m    249\u001b[0m         backend: Type[AbstractDocumentBackend]\n",
      "File \u001b[0;32m~/ProyectosPersonales/voice-rag/.ragvoice/lib/python3.10/site-packages/docling_core/utils/file.py:116\u001b[0m, in \u001b[0;36mresolve_source_to_stream\u001b[0;34m(source, headers)\u001b[0m\n\u001b[1;32m    114\u001b[0m \u001b[38;5;28;01mtry\u001b[39;00m:\n\u001b[1;32m    115\u001b[0m     local_path \u001b[38;5;241m=\u001b[39m TypeAdapter(Path)\u001b[38;5;241m.\u001b[39mvalidate_python(source)\n\u001b[0;32m--> 116\u001b[0m     stream \u001b[38;5;241m=\u001b[39m BytesIO(\u001b[43mlocal_path\u001b[49m\u001b[38;5;241;43m.\u001b[39;49m\u001b[43mread_bytes\u001b[49m\u001b[43m(\u001b[49m\u001b[43m)\u001b[49m)\n\u001b[1;32m    117\u001b[0m     doc_stream \u001b[38;5;241m=\u001b[39m DocumentStream(name\u001b[38;5;241m=\u001b[39mlocal_path\u001b[38;5;241m.\u001b[39mname, stream\u001b[38;5;241m=\u001b[39mstream)\n\u001b[1;32m    118\u001b[0m \u001b[38;5;28;01mexcept\u001b[39;00m ValidationError:\n",
      "File \u001b[0;32m~/anaconda3/lib/python3.10/pathlib.py:1126\u001b[0m, in \u001b[0;36mPath.read_bytes\u001b[0;34m(self)\u001b[0m\n\u001b[1;32m   1122\u001b[0m \u001b[38;5;28;01mdef\u001b[39;00m\u001b[38;5;250m \u001b[39m\u001b[38;5;21mread_bytes\u001b[39m(\u001b[38;5;28mself\u001b[39m):\n\u001b[1;32m   1123\u001b[0m \u001b[38;5;250m    \u001b[39m\u001b[38;5;124;03m\"\"\"\u001b[39;00m\n\u001b[1;32m   1124\u001b[0m \u001b[38;5;124;03m    Open the file in bytes mode, read it, and close the file.\u001b[39;00m\n\u001b[1;32m   1125\u001b[0m \u001b[38;5;124;03m    \"\"\"\u001b[39;00m\n\u001b[0;32m-> 1126\u001b[0m     \u001b[38;5;28;01mwith\u001b[39;00m \u001b[38;5;28;43mself\u001b[39;49m\u001b[38;5;241;43m.\u001b[39;49m\u001b[43mopen\u001b[49m\u001b[43m(\u001b[49m\u001b[43mmode\u001b[49m\u001b[38;5;241;43m=\u001b[39;49m\u001b[38;5;124;43m'\u001b[39;49m\u001b[38;5;124;43mrb\u001b[39;49m\u001b[38;5;124;43m'\u001b[39;49m\u001b[43m)\u001b[49m \u001b[38;5;28;01mas\u001b[39;00m f:\n\u001b[1;32m   1127\u001b[0m         \u001b[38;5;28;01mreturn\u001b[39;00m f\u001b[38;5;241m.\u001b[39mread()\n",
      "File \u001b[0;32m~/anaconda3/lib/python3.10/pathlib.py:1119\u001b[0m, in \u001b[0;36mPath.open\u001b[0;34m(self, mode, buffering, encoding, errors, newline)\u001b[0m\n\u001b[1;32m   1117\u001b[0m \u001b[38;5;28;01mif\u001b[39;00m \u001b[38;5;124m\"\u001b[39m\u001b[38;5;124mb\u001b[39m\u001b[38;5;124m\"\u001b[39m \u001b[38;5;129;01mnot\u001b[39;00m \u001b[38;5;129;01min\u001b[39;00m mode:\n\u001b[1;32m   1118\u001b[0m     encoding \u001b[38;5;241m=\u001b[39m io\u001b[38;5;241m.\u001b[39mtext_encoding(encoding)\n\u001b[0;32m-> 1119\u001b[0m \u001b[38;5;28;01mreturn\u001b[39;00m \u001b[38;5;28;43mself\u001b[39;49m\u001b[38;5;241;43m.\u001b[39;49m\u001b[43m_accessor\u001b[49m\u001b[38;5;241;43m.\u001b[39;49m\u001b[43mopen\u001b[49m\u001b[43m(\u001b[49m\u001b[38;5;28;43mself\u001b[39;49m\u001b[43m,\u001b[49m\u001b[43m \u001b[49m\u001b[43mmode\u001b[49m\u001b[43m,\u001b[49m\u001b[43m \u001b[49m\u001b[43mbuffering\u001b[49m\u001b[43m,\u001b[49m\u001b[43m \u001b[49m\u001b[43mencoding\u001b[49m\u001b[43m,\u001b[49m\u001b[43m \u001b[49m\u001b[43merrors\u001b[49m\u001b[43m,\u001b[49m\n\u001b[1;32m   1120\u001b[0m \u001b[43m                           \u001b[49m\u001b[43mnewline\u001b[49m\u001b[43m)\u001b[49m\n",
      "\u001b[0;31mFileNotFoundError\u001b[0m: [Errno 2] No such file or directory: '.creacion de valor con genAI.pdf'"
     ]
    }
   ],
   "source": [
    "pdf_path = \"./creacion de valor con genAI.pdf\"\n",
    "parser = PdfParser(chunk_size=256)\n",
    "chunks = parser.parse(pdf_path)\n",
    "\n",
    "print(f\"Total de chunks encontrados: {len(chunks)}\")"
   ]
  }
 ],
 "metadata": {
  "kernelspec": {
   "display_name": ".ragvoice",
   "language": "python",
   "name": "python3"
  },
  "language_info": {
   "codemirror_mode": {
    "name": "ipython",
    "version": 3
   },
   "file_extension": ".py",
   "mimetype": "text/x-python",
   "name": "python",
   "nbconvert_exporter": "python",
   "pygments_lexer": "ipython3",
   "version": "3.10.8"
  }
 },
 "nbformat": 4,
 "nbformat_minor": 5
}
